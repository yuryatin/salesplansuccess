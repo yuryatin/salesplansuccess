{
 "cells": [
  {
   "cell_type": "code",
   "execution_count": 1,
   "id": "fe1dd2ce",
   "metadata": {},
   "outputs": [],
   "source": [
    "import numpy as np\n",
    "import pandas as pd\n",
    "from salesplansuccess.api import SalesPlanSuccess"
   ]
  },
  {
   "cell_type": "code",
   "execution_count": 2,
   "id": "967cbe6f",
   "metadata": {},
   "outputs": [],
   "source": [
    "pd.set_option('display.precision', 2)"
   ]
  },
  {
   "cell_type": "markdown",
   "id": "ebc076f5",
   "metadata": {},
   "source": [
    "### Generation of a random historical sales dataset with downtrend of -15 log% per month but a positive drift of 40 log% every third month at the end of a quarter"
   ]
  },
  {
   "cell_type": "code",
   "execution_count": 3,
   "id": "6a48cd64",
   "metadata": {},
   "outputs": [],
   "source": [
    "sales = np.random.normal(loc = -0.15, scale = 0.22, size=(54,)) + np.tile(np.array([0.0, 0.4, 0.0]), 19)[:-3]"
   ]
  },
  {
   "cell_type": "markdown",
   "id": "54adcbb1",
   "metadata": {},
   "source": [
    "### Applying the ARIMA(2,0,0) model to the random historical sales dataset with AR1 and AR2 coefficients of −0.3 and −0.55 respectively"
   ]
  },
  {
   "cell_type": "code",
   "execution_count": 4,
   "id": "8e50ce43",
   "metadata": {},
   "outputs": [],
   "source": [
    "sales[1] -= 0.3 * sales[0]\n",
    "for i in range(2, sales.shape[0]):\n",
    "    sales[i] += -0.55 * sales[i-2] -0.3 * sales[i-1]"
   ]
  },
  {
   "cell_type": "markdown",
   "id": "f1ad2604",
   "metadata": {},
   "source": [
    "### Converting the random logarithmic monthly sales changes into cummulative logarithmic sales changes, then scaling the initial monthly sales to 100.0 and converting from logarithmic to regular sales numbers"
   ]
  },
  {
   "cell_type": "code",
   "execution_count": 5,
   "id": "1783b62b",
   "metadata": {},
   "outputs": [],
   "source": [
    "sales = np.exp(np.concatenate((np.array([0.0]), sales)).cumsum() + np.log(100.0))"
   ]
  },
  {
   "cell_type": "markdown",
   "id": "568f767d",
   "metadata": {},
   "source": [
    "### Creating the historical sales data pandas DataFrame in the format ready to feed into SalesPlanSuccess class"
   ]
  },
  {
   "cell_type": "code",
   "execution_count": 6,
   "id": "9400f372",
   "metadata": {},
   "outputs": [],
   "source": [
    "historical_data = pd.DataFrame({'Year': ((np.zeros((5,12),dtype='int64') + 2018) + np.arange(5).reshape(5, 1)).flatten()[:-5], \n",
    "                                'Month': np.tile(np.arange(1,13), 5)[:-5], \n",
    "                                'Sales': sales})"
   ]
  },
  {
   "cell_type": "markdown",
   "id": "5d28c112",
   "metadata": {},
   "source": [
    "### Looking at the generated random historical sales dataset"
   ]
  },
  {
   "cell_type": "code",
   "execution_count": 7,
   "id": "e1f4d992",
   "metadata": {},
   "outputs": [
    {
     "data": {
      "text/html": [
       "<div>\n",
       "<style scoped>\n",
       "    .dataframe tbody tr th:only-of-type {\n",
       "        vertical-align: middle;\n",
       "    }\n",
       "\n",
       "    .dataframe tbody tr th {\n",
       "        vertical-align: top;\n",
       "    }\n",
       "\n",
       "    .dataframe thead th {\n",
       "        text-align: right;\n",
       "    }\n",
       "</style>\n",
       "<table border=\"1\" class=\"dataframe\">\n",
       "  <thead>\n",
       "    <tr style=\"text-align: right;\">\n",
       "      <th></th>\n",
       "      <th>Year</th>\n",
       "      <th>Month</th>\n",
       "      <th>Sales</th>\n",
       "    </tr>\n",
       "  </thead>\n",
       "  <tbody>\n",
       "    <tr>\n",
       "      <th>0</th>\n",
       "      <td>2018</td>\n",
       "      <td>1</td>\n",
       "      <td>100.00</td>\n",
       "    </tr>\n",
       "    <tr>\n",
       "      <th>1</th>\n",
       "      <td>2018</td>\n",
       "      <td>2</td>\n",
       "      <td>72.10</td>\n",
       "    </tr>\n",
       "    <tr>\n",
       "      <th>2</th>\n",
       "      <td>2018</td>\n",
       "      <td>3</td>\n",
       "      <td>98.56</td>\n",
       "    </tr>\n",
       "    <tr>\n",
       "      <th>3</th>\n",
       "      <td>2018</td>\n",
       "      <td>4</td>\n",
       "      <td>79.17</td>\n",
       "    </tr>\n",
       "    <tr>\n",
       "      <th>4</th>\n",
       "      <td>2018</td>\n",
       "      <td>5</td>\n",
       "      <td>62.98</td>\n",
       "    </tr>\n",
       "    <tr>\n",
       "      <th>5</th>\n",
       "      <td>2018</td>\n",
       "      <td>6</td>\n",
       "      <td>122.95</td>\n",
       "    </tr>\n",
       "    <tr>\n",
       "      <th>6</th>\n",
       "      <td>2018</td>\n",
       "      <td>7</td>\n",
       "      <td>125.40</td>\n",
       "    </tr>\n",
       "    <tr>\n",
       "      <th>7</th>\n",
       "      <td>2018</td>\n",
       "      <td>8</td>\n",
       "      <td>104.24</td>\n",
       "    </tr>\n",
       "    <tr>\n",
       "      <th>8</th>\n",
       "      <td>2018</td>\n",
       "      <td>9</td>\n",
       "      <td>109.66</td>\n",
       "    </tr>\n",
       "    <tr>\n",
       "      <th>9</th>\n",
       "      <td>2018</td>\n",
       "      <td>10</td>\n",
       "      <td>157.76</td>\n",
       "    </tr>\n",
       "    <tr>\n",
       "      <th>10</th>\n",
       "      <td>2018</td>\n",
       "      <td>11</td>\n",
       "      <td>136.98</td>\n",
       "    </tr>\n",
       "    <tr>\n",
       "      <th>11</th>\n",
       "      <td>2018</td>\n",
       "      <td>12</td>\n",
       "      <td>151.78</td>\n",
       "    </tr>\n",
       "    <tr>\n",
       "      <th>12</th>\n",
       "      <td>2019</td>\n",
       "      <td>1</td>\n",
       "      <td>186.09</td>\n",
       "    </tr>\n",
       "    <tr>\n",
       "      <th>13</th>\n",
       "      <td>2019</td>\n",
       "      <td>2</td>\n",
       "      <td>173.49</td>\n",
       "    </tr>\n",
       "    <tr>\n",
       "      <th>14</th>\n",
       "      <td>2019</td>\n",
       "      <td>3</td>\n",
       "      <td>211.58</td>\n",
       "    </tr>\n",
       "    <tr>\n",
       "      <th>15</th>\n",
       "      <td>2019</td>\n",
       "      <td>4</td>\n",
       "      <td>168.05</td>\n",
       "    </tr>\n",
       "    <tr>\n",
       "      <th>16</th>\n",
       "      <td>2019</td>\n",
       "      <td>5</td>\n",
       "      <td>152.89</td>\n",
       "    </tr>\n",
       "    <tr>\n",
       "      <th>17</th>\n",
       "      <td>2019</td>\n",
       "      <td>6</td>\n",
       "      <td>255.01</td>\n",
       "    </tr>\n",
       "    <tr>\n",
       "      <th>18</th>\n",
       "      <td>2019</td>\n",
       "      <td>7</td>\n",
       "      <td>201.08</td>\n",
       "    </tr>\n",
       "    <tr>\n",
       "      <th>19</th>\n",
       "      <td>2019</td>\n",
       "      <td>8</td>\n",
       "      <td>97.22</td>\n",
       "    </tr>\n",
       "    <tr>\n",
       "      <th>20</th>\n",
       "      <td>2019</td>\n",
       "      <td>9</td>\n",
       "      <td>182.67</td>\n",
       "    </tr>\n",
       "    <tr>\n",
       "      <th>21</th>\n",
       "      <td>2019</td>\n",
       "      <td>10</td>\n",
       "      <td>218.13</td>\n",
       "    </tr>\n",
       "    <tr>\n",
       "      <th>22</th>\n",
       "      <td>2019</td>\n",
       "      <td>11</td>\n",
       "      <td>171.53</td>\n",
       "    </tr>\n",
       "    <tr>\n",
       "      <th>23</th>\n",
       "      <td>2019</td>\n",
       "      <td>12</td>\n",
       "      <td>209.55</td>\n",
       "    </tr>\n",
       "    <tr>\n",
       "      <th>24</th>\n",
       "      <td>2020</td>\n",
       "      <td>1</td>\n",
       "      <td>330.05</td>\n",
       "    </tr>\n",
       "    <tr>\n",
       "      <th>25</th>\n",
       "      <td>2020</td>\n",
       "      <td>2</td>\n",
       "      <td>180.51</td>\n",
       "    </tr>\n",
       "    <tr>\n",
       "      <th>26</th>\n",
       "      <td>2020</td>\n",
       "      <td>3</td>\n",
       "      <td>214.91</td>\n",
       "    </tr>\n",
       "    <tr>\n",
       "      <th>27</th>\n",
       "      <td>2020</td>\n",
       "      <td>4</td>\n",
       "      <td>213.98</td>\n",
       "    </tr>\n",
       "    <tr>\n",
       "      <th>28</th>\n",
       "      <td>2020</td>\n",
       "      <td>5</td>\n",
       "      <td>156.18</td>\n",
       "    </tr>\n",
       "    <tr>\n",
       "      <th>29</th>\n",
       "      <td>2020</td>\n",
       "      <td>6</td>\n",
       "      <td>319.29</td>\n",
       "    </tr>\n",
       "    <tr>\n",
       "      <th>30</th>\n",
       "      <td>2020</td>\n",
       "      <td>7</td>\n",
       "      <td>374.71</td>\n",
       "    </tr>\n",
       "    <tr>\n",
       "      <th>31</th>\n",
       "      <td>2020</td>\n",
       "      <td>8</td>\n",
       "      <td>166.25</td>\n",
       "    </tr>\n",
       "    <tr>\n",
       "      <th>32</th>\n",
       "      <td>2020</td>\n",
       "      <td>9</td>\n",
       "      <td>418.42</td>\n",
       "    </tr>\n",
       "    <tr>\n",
       "      <th>33</th>\n",
       "      <td>2020</td>\n",
       "      <td>10</td>\n",
       "      <td>466.83</td>\n",
       "    </tr>\n",
       "    <tr>\n",
       "      <th>34</th>\n",
       "      <td>2020</td>\n",
       "      <td>11</td>\n",
       "      <td>457.41</td>\n",
       "    </tr>\n",
       "    <tr>\n",
       "      <th>35</th>\n",
       "      <td>2020</td>\n",
       "      <td>12</td>\n",
       "      <td>418.76</td>\n",
       "    </tr>\n",
       "    <tr>\n",
       "      <th>36</th>\n",
       "      <td>2021</td>\n",
       "      <td>1</td>\n",
       "      <td>348.28</td>\n",
       "    </tr>\n",
       "    <tr>\n",
       "      <th>37</th>\n",
       "      <td>2021</td>\n",
       "      <td>2</td>\n",
       "      <td>521.63</td>\n",
       "    </tr>\n",
       "    <tr>\n",
       "      <th>38</th>\n",
       "      <td>2021</td>\n",
       "      <td>3</td>\n",
       "      <td>738.11</td>\n",
       "    </tr>\n",
       "    <tr>\n",
       "      <th>39</th>\n",
       "      <td>2021</td>\n",
       "      <td>4</td>\n",
       "      <td>532.00</td>\n",
       "    </tr>\n",
       "    <tr>\n",
       "      <th>40</th>\n",
       "      <td>2021</td>\n",
       "      <td>5</td>\n",
       "      <td>477.37</td>\n",
       "    </tr>\n",
       "    <tr>\n",
       "      <th>41</th>\n",
       "      <td>2021</td>\n",
       "      <td>6</td>\n",
       "      <td>676.72</td>\n",
       "    </tr>\n",
       "    <tr>\n",
       "      <th>42</th>\n",
       "      <td>2021</td>\n",
       "      <td>7</td>\n",
       "      <td>540.18</td>\n",
       "    </tr>\n",
       "    <tr>\n",
       "      <th>43</th>\n",
       "      <td>2021</td>\n",
       "      <td>8</td>\n",
       "      <td>415.94</td>\n",
       "    </tr>\n",
       "    <tr>\n",
       "      <th>44</th>\n",
       "      <td>2021</td>\n",
       "      <td>9</td>\n",
       "      <td>634.10</td>\n",
       "    </tr>\n",
       "    <tr>\n",
       "      <th>45</th>\n",
       "      <td>2021</td>\n",
       "      <td>10</td>\n",
       "      <td>522.41</td>\n",
       "    </tr>\n",
       "    <tr>\n",
       "      <th>46</th>\n",
       "      <td>2021</td>\n",
       "      <td>11</td>\n",
       "      <td>395.88</td>\n",
       "    </tr>\n",
       "    <tr>\n",
       "      <th>47</th>\n",
       "      <td>2021</td>\n",
       "      <td>12</td>\n",
       "      <td>513.07</td>\n",
       "    </tr>\n",
       "    <tr>\n",
       "      <th>48</th>\n",
       "      <td>2022</td>\n",
       "      <td>1</td>\n",
       "      <td>373.37</td>\n",
       "    </tr>\n",
       "    <tr>\n",
       "      <th>49</th>\n",
       "      <td>2022</td>\n",
       "      <td>2</td>\n",
       "      <td>225.23</td>\n",
       "    </tr>\n",
       "    <tr>\n",
       "      <th>50</th>\n",
       "      <td>2022</td>\n",
       "      <td>3</td>\n",
       "      <td>346.31</td>\n",
       "    </tr>\n",
       "    <tr>\n",
       "      <th>51</th>\n",
       "      <td>2022</td>\n",
       "      <td>4</td>\n",
       "      <td>461.13</td>\n",
       "    </tr>\n",
       "    <tr>\n",
       "      <th>52</th>\n",
       "      <td>2022</td>\n",
       "      <td>5</td>\n",
       "      <td>222.99</td>\n",
       "    </tr>\n",
       "    <tr>\n",
       "      <th>53</th>\n",
       "      <td>2022</td>\n",
       "      <td>6</td>\n",
       "      <td>298.23</td>\n",
       "    </tr>\n",
       "    <tr>\n",
       "      <th>54</th>\n",
       "      <td>2022</td>\n",
       "      <td>7</td>\n",
       "      <td>298.35</td>\n",
       "    </tr>\n",
       "  </tbody>\n",
       "</table>\n",
       "</div>"
      ],
      "text/plain": [
       "    Year  Month   Sales\n",
       "0   2018      1  100.00\n",
       "1   2018      2   72.10\n",
       "2   2018      3   98.56\n",
       "3   2018      4   79.17\n",
       "4   2018      5   62.98\n",
       "5   2018      6  122.95\n",
       "6   2018      7  125.40\n",
       "7   2018      8  104.24\n",
       "8   2018      9  109.66\n",
       "9   2018     10  157.76\n",
       "10  2018     11  136.98\n",
       "11  2018     12  151.78\n",
       "12  2019      1  186.09\n",
       "13  2019      2  173.49\n",
       "14  2019      3  211.58\n",
       "15  2019      4  168.05\n",
       "16  2019      5  152.89\n",
       "17  2019      6  255.01\n",
       "18  2019      7  201.08\n",
       "19  2019      8   97.22\n",
       "20  2019      9  182.67\n",
       "21  2019     10  218.13\n",
       "22  2019     11  171.53\n",
       "23  2019     12  209.55\n",
       "24  2020      1  330.05\n",
       "25  2020      2  180.51\n",
       "26  2020      3  214.91\n",
       "27  2020      4  213.98\n",
       "28  2020      5  156.18\n",
       "29  2020      6  319.29\n",
       "30  2020      7  374.71\n",
       "31  2020      8  166.25\n",
       "32  2020      9  418.42\n",
       "33  2020     10  466.83\n",
       "34  2020     11  457.41\n",
       "35  2020     12  418.76\n",
       "36  2021      1  348.28\n",
       "37  2021      2  521.63\n",
       "38  2021      3  738.11\n",
       "39  2021      4  532.00\n",
       "40  2021      5  477.37\n",
       "41  2021      6  676.72\n",
       "42  2021      7  540.18\n",
       "43  2021      8  415.94\n",
       "44  2021      9  634.10\n",
       "45  2021     10  522.41\n",
       "46  2021     11  395.88\n",
       "47  2021     12  513.07\n",
       "48  2022      1  373.37\n",
       "49  2022      2  225.23\n",
       "50  2022      3  346.31\n",
       "51  2022      4  461.13\n",
       "52  2022      5  222.99\n",
       "53  2022      6  298.23\n",
       "54  2022      7  298.35"
      ]
     },
     "execution_count": 7,
     "metadata": {},
     "output_type": "execute_result"
    }
   ],
   "source": [
    "historical_data"
   ]
  },
  {
   "cell_type": "markdown",
   "id": "e7de2390",
   "metadata": {},
   "source": [
    "### Creating an object of the class SalesPlanSuccess, feeding into it the historical sales data and annual sales plan for the current year 2022"
   ]
  },
  {
   "cell_type": "code",
   "execution_count": 8,
   "id": "2532bd70",
   "metadata": {},
   "outputs": [],
   "source": [
    "sps = SalesPlanSuccess(data = historical_data, plan = 3800, product = 'superbumab')"
   ]
  },
  {
   "cell_type": "markdown",
   "id": "53b57c7c",
   "metadata": {},
   "source": [
    "### Processing the fed dataset and estimating the parameters of the ARIMA(2,1,0) model with one external regressor"
   ]
  },
  {
   "cell_type": "code",
   "execution_count": 9,
   "id": "3e28b4f4",
   "metadata": {},
   "outputs": [
    {
     "name": "stdout",
     "output_type": "stream",
     "text": [
      "\t  Coefficient estimates in LSE\n",
      "Monthly drift:\t\t\t\t-0.081\n",
      "End of quarter:\t\t\t\t 0.361\n",
      "AR1:\t\t\t\t\t-0.275\n",
      "AR2:\t\t\t\t\t-0.511\n",
      "Standard deviation of residuals:\t 0.234\n"
     ]
    }
   ],
   "source": [
    "sps.fit(mode='LSE')"
   ]
  },
  {
   "cell_type": "markdown",
   "id": "538c17e7",
   "metadata": {},
   "source": [
    "### Looking at the estimates of the parameters of the ARIMA(2,1,0) model from the previous step without repeating the fit itself"
   ]
  },
  {
   "cell_type": "code",
   "execution_count": 10,
   "id": "9fb69f77",
   "metadata": {},
   "outputs": [
    {
     "name": "stdout",
     "output_type": "stream",
     "text": [
      "\t  Coefficient estimates in LSE\n",
      "Monthly drift:\t\t\t\t-0.081\n",
      "End of quarter:\t\t\t\t 0.361\n",
      "AR1:\t\t\t\t\t-0.275\n",
      "AR2:\t\t\t\t\t-0.511\n",
      "Standard deviation of residuals:\t 0.234\n"
     ]
    }
   ],
   "source": [
    "sps.summary()"
   ]
  },
  {
   "cell_type": "markdown",
   "id": "baa8fb35",
   "metadata": {},
   "source": [
    "### A Monte Carlo simulation for the final months of the current year 2022 (or if the dataset had ended with the month 12, then it would have been for the 12 months of the next year 2023)"
   ]
  },
  {
   "cell_type": "code",
   "execution_count": 11,
   "id": "756d581b",
   "metadata": {},
   "outputs": [
    {
     "name": "stdout",
     "output_type": "stream",
     "text": [
      "Annual plan:\t\t\t\t3,800\n",
      "\n",
      "Probability of achieving this annual plan:\t44.2%%\n",
      "\n",
      "\tPercentile table\n",
      "1st percetile:\t\t3,102\n",
      "5th percetile:\t\t3,250\n",
      "10th percetile:\t\t3,344\n",
      "20th percetile:\t\t3,469\n",
      "30th percetile:\t\t3,566\n",
      "40th percetile:\t\t3,656\n",
      "50th percetile:\t\t3,745\n",
      "60th percetile:\t\t3,843\n",
      "70th percetile:\t\t3,954\n",
      "80th percetile:\t\t4,090\n",
      "90th percetile:\t\t4,299\n",
      "95th percetile:\t\t4,493\n",
      "99th percetile:\t\t4,912\n",
      "\n"
     ]
    }
   ],
   "source": [
    "sps.simulate(sample_size=50000)"
   ]
  },
  {
   "cell_type": "markdown",
   "id": "416d9def",
   "metadata": {},
   "source": [
    "### Looking at the percentile table from the previous step without repeating the simulation"
   ]
  },
  {
   "cell_type": "code",
   "execution_count": 12,
   "id": "30fc87ab",
   "metadata": {},
   "outputs": [
    {
     "name": "stdout",
     "output_type": "stream",
     "text": [
      "Annual plan:\t\t\t\t3,800\n",
      "\n",
      "Probability of achieving this annual plan:\t44.2%%\n",
      "\n",
      "\tPercentile table\n",
      "1st percetile:\t\t3,102\n",
      "5th percetile:\t\t3,250\n",
      "10th percetile:\t\t3,344\n",
      "20th percetile:\t\t3,469\n",
      "30th percetile:\t\t3,566\n",
      "40th percetile:\t\t3,656\n",
      "50th percetile:\t\t3,745\n",
      "60th percetile:\t\t3,843\n",
      "70th percetile:\t\t3,954\n",
      "80th percetile:\t\t4,090\n",
      "90th percetile:\t\t4,299\n",
      "95th percetile:\t\t4,493\n",
      "99th percetile:\t\t4,912\n",
      "\n"
     ]
    }
   ],
   "source": [
    "sps.percentiles()"
   ]
  },
  {
   "cell_type": "markdown",
   "id": "972a9916",
   "metadata": {},
   "source": [
    "### On the plot below, the X axis shows the expected annual sales vs. the plan for the current (or next) year according to the Monte Carlo simulation from the previous step"
   ]
  },
  {
   "cell_type": "code",
   "execution_count": 13,
   "id": "d3bdbfe6",
   "metadata": {},
   "outputs": [
    {
     "data": {
      "image/png": "[encoded data removed]",
      "text/plain": [
       "<Figure size 432x288 with 1 Axes>"
      ]
     },
     "metadata": {
      "needs_background": "light"
     },
     "output_type": "display_data"
    }
   ],
   "source": [
    "sps.plot(failure_color='#FFE5D1', success_color='#D9FAE0')"
   ]
  }
 ],
 "metadata": {
  "kernelspec": {
   "display_name": "Python 3 (ipykernel)",
   "language": "python",
   "name": "python3"
  },
  "language_info": {
   "codemirror_mode": {
    "name": "ipython",
    "version": 3
   },
   "file_extension": ".py",
   "mimetype": "text/x-python",
   "name": "python",
   "nbconvert_exporter": "python",
   "pygments_lexer": "ipython3",
   "version": "3.9.7"
  }
 },
 "nbformat": 4,
 "nbformat_minor": 5
}
